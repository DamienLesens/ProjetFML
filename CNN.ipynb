{
 "cells": [
  {
   "cell_type": "code",
   "execution_count": 1,
   "id": "63d95533-10b2-4b55-96aa-119b2a26c059",
   "metadata": {
    "tags": []
   },
   "outputs": [],
   "source": [
    "import numpy as np\n",
    "import pandas as pd\n",
    "\n",
    "# import tensorflow as tf\n",
    "# from tensorflow.keras import datasets, layers, models\n",
    "\n",
    "import skimage.measure\n",
    "from scipy import signal\n",
    "\n",
    "from sklearn.neural_network import MLPRegressor\n",
    "from sklearn.preprocessing import StandardScaler  \n",
    "from sklearn.decomposition import PCA\n",
    "from sklearn.model_selection import ShuffleSplit\n",
    "\n",
    "from matplotlib import pyplot as plt\n",
    "import os\n",
    "from multiprocessing import Pool"
   ]
  },
  {
   "cell_type": "code",
   "execution_count": 2,
   "id": "e44bc39b-3919-4d9d-9fe8-90cb8fe9a363",
   "metadata": {
    "tags": []
   },
   "outputs": [],
   "source": [
    "my_path = str(os.getcwd())\n",
    "X_train = np.load(my_path+'/.data/X_train_surge_new.npz')\n",
    "X_train_slp = X_train['slp']\n",
    "X_train_surge1 = X_train['surge1_input']\n",
    "X_train_surge2 = X_train['surge2_input']\n",
    "X_train_surge = [None,X_train_surge1,X_train_surge2]\n",
    "Y_train = np.array(pd.read_csv(my_path+'/.data/Y_train_surge.csv'))\n",
    "X_test = np.load(my_path+'/.data/X_test_surge_new.npz')"
   ]
  },
  {
   "cell_type": "code",
   "execution_count": 3,
   "id": "1a3349b7-1b08-458a-b5ed-b96534d0c6de",
   "metadata": {
    "tags": []
   },
   "outputs": [],
   "source": [
    "def surge_prediction_metric(dataframe_y_true, dataframe_y_pred):\n",
    "    weights = np.linspace(1, 0.1, 10)[np.newaxis]\n",
    "    surge1_columns = [\n",
    "        'surge1_t0', 'surge1_t1', 'surge1_t2', 'surge1_t3', 'surge1_t4',\n",
    "        'surge1_t5', 'surge1_t6', 'surge1_t7', 'surge1_t8', 'surge1_t9' ]\n",
    "    surge2_columns = [\n",
    "        'surge2_t0', 'surge2_t1', 'surge2_t2', 'surge2_t3', 'surge2_t4',\n",
    "        'surge2_t5', 'surge2_t6', 'surge2_t7', 'surge2_t8', 'surge2_t9' ]\n",
    "    surge1_score = (weights * (dataframe_y_true[surge1_columns].values - dataframe_y_pred[surge1_columns].values)**2).mean()\n",
    "    surge2_score = (weights * (dataframe_y_true[surge2_columns].values - dataframe_y_pred[surge2_columns].values)**2).mean()\n",
    "\n",
    "    return surge1_score + surge2_score\n",
    "\n",
    "def metric_one_surge(y_true,y_pred):\n",
    "    weights = np.linspace(1, 0.1, 10)[np.newaxis]\n",
    "    score = (weights*(y_true-y_pred)**2).mean()\n",
    "    return score"
   ]
  },
  {
   "cell_type": "markdown",
   "id": "4b626eaa-c95a-4311-8f60-8c52de859bd9",
   "metadata": {},
   "source": [
    "### Utilitary functions for ruling 'weights' issue"
   ]
  },
  {
   "cell_type": "code",
   "execution_count": 4,
   "id": "54fd427b-afa4-4eea-9dde-24652156c651",
   "metadata": {
    "tags": []
   },
   "outputs": [],
   "source": [
    "# should be applied to Y_train before learning\n",
    "def transform(y):\n",
    "    weights = np.sqrt(np.linspace(1, 0.1, 10)[np.newaxis])\n",
    "    return weights*y\n",
    "\n",
    "# should be applied to Y_pred after test\n",
    "def inverse_transform(y):\n",
    "    weights = 1/np.sqrt(np.linspace(1, 0.1, 10)[np.newaxis])\n",
    "    return weights*y"
   ]
  },
  {
   "cell_type": "markdown",
   "id": "1a0d6217-a638-47f6-9945-9198012402a2",
   "metadata": {},
   "source": [
    "## Use CNN only on pressure"
   ]
  },
  {
   "cell_type": "code",
   "execution_count": 35,
   "id": "0eeb1d4e-2171-4e0e-b509-1fd7c2b9c0de",
   "metadata": {},
   "outputs": [],
   "source": [
    "kernel = np.array([[1, 2, 1],\n",
    "                   [2, 4, 2],\n",
    "                   [1, 2, 1]])\n",
    "kernel = (1/kernel.sum()) * kernel\n",
    "\n",
    "def dimReduceConv(img, nbsteps):\n",
    "    for i in range(nbsteps):\n",
    "        # gaussian convolution\n",
    "        img = signal.convolve2d(img, kernel)\n",
    "        #print(img.shape)\n",
    "        # max pooling\n",
    "        img = skimage.measure.block_reduce(img, (2,2), np.max)\n",
    "        #print(img.shape)\n",
    "        \n",
    "    #img = signal.convolve2d(img, kernel)\n",
    "    #print(img.shape)\n",
    "    return img\n",
    "    "
   ]
  },
  {
   "cell_type": "markdown",
   "id": "27916a05",
   "metadata": {},
   "source": [
    "Test convolution"
   ]
  },
  {
   "cell_type": "code",
   "execution_count": 36,
   "id": "0a7e5a9f",
   "metadata": {},
   "outputs": [
    {
     "name": "stdout",
     "output_type": "stream",
     "text": [
      "[[102389.25 102458.25 102514.25 ... 101276.25 101275.25 101271.25]\n",
      " [102432.25 102509.25 102572.25 ... 101268.25 101266.25 101268.25]\n",
      " [102467.25 102552.25 102624.25 ... 101255.25 101255.25 101256.25]\n",
      " ...\n",
      " [101414.25 101423.25 101407.25 ... 100039.25 100005.25 100019.25]\n",
      " [101986.25 102006.25 101961.25 ... 100100.25 100076.25 100096.25]\n",
      " [102685.25 102702.25 102688.25 ... 100334.25 100330.25 100362.25]]\n"
     ]
    }
   ],
   "source": [
    "img = X_train_slp[0][0]\n",
    "print(img)\n",
    "imgr = dimReduceConv(img,6)"
   ]
  },
  {
   "cell_type": "markdown",
   "id": "84d09aad",
   "metadata": {},
   "source": [
    "Convolute the entire"
   ]
  },
  {
   "cell_type": "code",
   "execution_count": null,
   "id": "2e63e46e",
   "metadata": {},
   "outputs": [],
   "source": []
  },
  {
   "cell_type": "code",
   "execution_count": 37,
   "id": "07400dd1-8105-4765-9c4d-c62f822746f4",
   "metadata": {
    "tags": []
   },
   "outputs": [],
   "source": [
    "def slp_to_flat_images(slp):\n",
    "    a,b,c,d = np.shape(slp)\n",
    "    return slp.reshape((a*b,c,d))\n",
    "\n",
    "class Preprocess:\n",
    "    \n",
    "    _scaler1 = StandardScaler()\n",
    "    _scaler2 = StandardScaler()\n",
    "    \n",
    "    def fit_transform(self,slp,nb_levels):\n",
    "        #reshape\n",
    "        list_flat_images = slp_to_flat_images(slp)\n",
    "\n",
    "        #normalize\n",
    "        list_flat_images = self._scaler1.fit_transform(list_flat_images.reshape(-1, list_flat_images.shape[-1])).reshape(list_flat_images.shape)\n",
    "        \n",
    "        self.nblevels = nb_levels\n",
    "        \n",
    "        # convolve\n",
    "        slp_LD = []\n",
    "        for img in list_flat_images:\n",
    "            flatImg = dimReduceConv(img,nb_levels).flatten()\n",
    "            slp_LD.append(flatImg)\n",
    "        \n",
    "        # reshape array\n",
    "        slp_LD = np.array([np.concatenate(slp_LD[i*40:(i+1)*40]) for i in range(len(slp))])\n",
    "        \n",
    "        #renormalize\n",
    "        slp_LD = self._scaler2.fit_transform(slp_LD)\n",
    "        \n",
    "        return slp_LD\n",
    "    \n",
    "    def transform(self,slp):\n",
    "        flat = slp_to_flat_images(slp)\n",
    "        flat = self._scaler1.transform(flat.reshape(-1, flat.shape[-1])).reshape(flat.shape)\n",
    "\n",
    "        # convolve\n",
    "        slp_LD = []\n",
    "        for img in flat:\n",
    "            flatImg = dimReduceConv(img,self.nblevels).flatten()\n",
    "            slp_LD.append(flatImg)\n",
    "                          \n",
    "        slp_LD = np.array([np.concatenate(slp_LD[i*40:(i+1)*40]) for i in range(len(slp))])\n",
    "        slp_LD = self._scaler2.transform(slp_LD)\n",
    "        # print(slp_LD.shape)\n",
    "        # print(slp_LD.shape)\n",
    "        return slp_LD"
   ]
  },
  {
   "cell_type": "code",
   "execution_count": 41,
   "id": "ee1bb30d-ac09-493b-961b-6cbaedb1c130",
   "metadata": {},
   "outputs": [
    {
     "name": "stdout",
     "output_type": "stream",
     "text": [
      "0\n"
     ]
    },
    {
     "ename": "KeyboardInterrupt",
     "evalue": "",
     "output_type": "error",
     "traceback": [
      "\u001b[0;31m---------------------------------------------------------------------------\u001b[0m",
      "\u001b[0;31mKeyboardInterrupt\u001b[0m                         Traceback (most recent call last)",
      "\u001b[0;32m/tmp/ipykernel_9107/1095703229.py\u001b[0m in \u001b[0;36m<module>\u001b[0;34m\u001b[0m\n\u001b[1;32m     28\u001b[0m     \u001b[0;31m#preprocessing (convolutions and scaling) done once for all\u001b[0m\u001b[0;34m\u001b[0m\u001b[0;34m\u001b[0m\u001b[0m\n\u001b[1;32m     29\u001b[0m     \u001b[0mprepro\u001b[0m \u001b[0;34m=\u001b[0m \u001b[0mPreprocess\u001b[0m\u001b[0;34m(\u001b[0m\u001b[0;34m)\u001b[0m\u001b[0;34m\u001b[0m\u001b[0;34m\u001b[0m\u001b[0m\n\u001b[0;32m---> 30\u001b[0;31m     \u001b[0mslp_train_LD\u001b[0m \u001b[0;34m=\u001b[0m \u001b[0mprepro\u001b[0m\u001b[0;34m.\u001b[0m\u001b[0mfit_transform\u001b[0m\u001b[0;34m(\u001b[0m\u001b[0mslp_train\u001b[0m\u001b[0;34m,\u001b[0m \u001b[0mnbConv\u001b[0m\u001b[0;34m)\u001b[0m\u001b[0;34m\u001b[0m\u001b[0;34m\u001b[0m\u001b[0m\n\u001b[0m\u001b[1;32m     31\u001b[0m     \u001b[0mslp_test_LD\u001b[0m \u001b[0;34m=\u001b[0m \u001b[0mprepro\u001b[0m\u001b[0;34m.\u001b[0m\u001b[0mtransform\u001b[0m\u001b[0;34m(\u001b[0m\u001b[0mslp_test\u001b[0m\u001b[0;34m)\u001b[0m\u001b[0;34m\u001b[0m\u001b[0;34m\u001b[0m\u001b[0m\n\u001b[1;32m     32\u001b[0m \u001b[0;34m\u001b[0m\u001b[0m\n",
      "\u001b[0;32m/tmp/ipykernel_9107/1716633944.py\u001b[0m in \u001b[0;36mfit_transform\u001b[0;34m(self, slp, nb_levels)\u001b[0m\n\u001b[1;32m     20\u001b[0m         \u001b[0mslp_LD\u001b[0m \u001b[0;34m=\u001b[0m \u001b[0;34m[\u001b[0m\u001b[0;34m]\u001b[0m\u001b[0;34m\u001b[0m\u001b[0;34m\u001b[0m\u001b[0m\n\u001b[1;32m     21\u001b[0m         \u001b[0;32mfor\u001b[0m \u001b[0mimg\u001b[0m \u001b[0;32min\u001b[0m \u001b[0mlist_flat_images\u001b[0m\u001b[0;34m:\u001b[0m\u001b[0;34m\u001b[0m\u001b[0;34m\u001b[0m\u001b[0m\n\u001b[0;32m---> 22\u001b[0;31m             \u001b[0mflatImg\u001b[0m \u001b[0;34m=\u001b[0m \u001b[0mdimReduceConv\u001b[0m\u001b[0;34m(\u001b[0m\u001b[0mimg\u001b[0m\u001b[0;34m,\u001b[0m\u001b[0mnb_levels\u001b[0m\u001b[0;34m)\u001b[0m\u001b[0;34m.\u001b[0m\u001b[0mflatten\u001b[0m\u001b[0;34m(\u001b[0m\u001b[0;34m)\u001b[0m\u001b[0;34m\u001b[0m\u001b[0;34m\u001b[0m\u001b[0m\n\u001b[0m\u001b[1;32m     23\u001b[0m             \u001b[0mslp_LD\u001b[0m\u001b[0;34m.\u001b[0m\u001b[0mappend\u001b[0m\u001b[0;34m(\u001b[0m\u001b[0mflatImg\u001b[0m\u001b[0;34m)\u001b[0m\u001b[0;34m\u001b[0m\u001b[0;34m\u001b[0m\u001b[0m\n\u001b[1;32m     24\u001b[0m \u001b[0;34m\u001b[0m\u001b[0m\n",
      "\u001b[0;32m/tmp/ipykernel_9107/666403928.py\u001b[0m in \u001b[0;36mdimReduceConv\u001b[0;34m(img, nbsteps)\u001b[0m\n\u001b[1;32m     10\u001b[0m         \u001b[0;31m#print(img.shape)\u001b[0m\u001b[0;34m\u001b[0m\u001b[0;34m\u001b[0m\u001b[0m\n\u001b[1;32m     11\u001b[0m         \u001b[0;31m# max pooling\u001b[0m\u001b[0;34m\u001b[0m\u001b[0;34m\u001b[0m\u001b[0m\n\u001b[0;32m---> 12\u001b[0;31m         \u001b[0mimg\u001b[0m \u001b[0;34m=\u001b[0m \u001b[0mskimage\u001b[0m\u001b[0;34m.\u001b[0m\u001b[0mmeasure\u001b[0m\u001b[0;34m.\u001b[0m\u001b[0mblock_reduce\u001b[0m\u001b[0;34m(\u001b[0m\u001b[0mimg\u001b[0m\u001b[0;34m,\u001b[0m \u001b[0;34m(\u001b[0m\u001b[0;36m2\u001b[0m\u001b[0;34m,\u001b[0m\u001b[0;36m2\u001b[0m\u001b[0;34m)\u001b[0m\u001b[0;34m,\u001b[0m \u001b[0mnp\u001b[0m\u001b[0;34m.\u001b[0m\u001b[0mmax\u001b[0m\u001b[0;34m)\u001b[0m\u001b[0;34m\u001b[0m\u001b[0;34m\u001b[0m\u001b[0m\n\u001b[0m\u001b[1;32m     13\u001b[0m         \u001b[0;31m#print(img.shape)\u001b[0m\u001b[0;34m\u001b[0m\u001b[0;34m\u001b[0m\u001b[0m\n\u001b[1;32m     14\u001b[0m \u001b[0;34m\u001b[0m\u001b[0m\n",
      "\u001b[0;32m/usr/local/lib/python3.10/dist-packages/skimage/measure/block.py\u001b[0m in \u001b[0;36mblock_reduce\u001b[0;34m(image, block_size, func, cval, func_kwargs)\u001b[0m\n\u001b[1;32m     82\u001b[0m         \u001b[0mpad_width\u001b[0m\u001b[0;34m.\u001b[0m\u001b[0mappend\u001b[0m\u001b[0;34m(\u001b[0m\u001b[0;34m(\u001b[0m\u001b[0;36m0\u001b[0m\u001b[0;34m,\u001b[0m \u001b[0mafter_width\u001b[0m\u001b[0;34m)\u001b[0m\u001b[0;34m)\u001b[0m\u001b[0;34m\u001b[0m\u001b[0;34m\u001b[0m\u001b[0m\n\u001b[1;32m     83\u001b[0m \u001b[0;34m\u001b[0m\u001b[0m\n\u001b[0;32m---> 84\u001b[0;31m     image = np.pad(image, pad_width=pad_width, mode='constant',\n\u001b[0m\u001b[1;32m     85\u001b[0m                    constant_values=cval)\n\u001b[1;32m     86\u001b[0m \u001b[0;34m\u001b[0m\u001b[0m\n",
      "\u001b[0;32m<__array_function__ internals>\u001b[0m in \u001b[0;36mpad\u001b[0;34m(*args, **kwargs)\u001b[0m\n",
      "\u001b[0;32m/usr/lib/python3/dist-packages/numpy/lib/arraypad.py\u001b[0m in \u001b[0;36mpad\u001b[0;34m(array, pad_width, mode, **kwargs)\u001b[0m\n\u001b[1;32m    801\u001b[0m         \u001b[0;32mfor\u001b[0m \u001b[0maxis\u001b[0m\u001b[0;34m,\u001b[0m \u001b[0mwidth_pair\u001b[0m\u001b[0;34m,\u001b[0m \u001b[0mvalue_pair\u001b[0m \u001b[0;32min\u001b[0m \u001b[0mzip\u001b[0m\u001b[0;34m(\u001b[0m\u001b[0maxes\u001b[0m\u001b[0;34m,\u001b[0m \u001b[0mpad_width\u001b[0m\u001b[0;34m,\u001b[0m \u001b[0mvalues\u001b[0m\u001b[0;34m)\u001b[0m\u001b[0;34m:\u001b[0m\u001b[0;34m\u001b[0m\u001b[0;34m\u001b[0m\u001b[0m\n\u001b[1;32m    802\u001b[0m             \u001b[0mroi\u001b[0m \u001b[0;34m=\u001b[0m \u001b[0m_view_roi\u001b[0m\u001b[0;34m(\u001b[0m\u001b[0mpadded\u001b[0m\u001b[0;34m,\u001b[0m \u001b[0moriginal_area_slice\u001b[0m\u001b[0;34m,\u001b[0m \u001b[0maxis\u001b[0m\u001b[0;34m)\u001b[0m\u001b[0;34m\u001b[0m\u001b[0;34m\u001b[0m\u001b[0m\n\u001b[0;32m--> 803\u001b[0;31m             \u001b[0m_set_pad_area\u001b[0m\u001b[0;34m(\u001b[0m\u001b[0mroi\u001b[0m\u001b[0;34m,\u001b[0m \u001b[0maxis\u001b[0m\u001b[0;34m,\u001b[0m \u001b[0mwidth_pair\u001b[0m\u001b[0;34m,\u001b[0m \u001b[0mvalue_pair\u001b[0m\u001b[0;34m)\u001b[0m\u001b[0;34m\u001b[0m\u001b[0;34m\u001b[0m\u001b[0m\n\u001b[0m\u001b[1;32m    804\u001b[0m \u001b[0;34m\u001b[0m\u001b[0m\n\u001b[1;32m    805\u001b[0m     \u001b[0;32melif\u001b[0m \u001b[0mmode\u001b[0m \u001b[0;34m==\u001b[0m \u001b[0;34m\"empty\"\u001b[0m\u001b[0;34m:\u001b[0m\u001b[0;34m\u001b[0m\u001b[0;34m\u001b[0m\u001b[0m\n",
      "\u001b[0;31mKeyboardInterrupt\u001b[0m: "
     ]
    }
   ],
   "source": [
    "# prepare validation dataset (extract test from the data we have)\n",
    "nbs = 5 #number of splits to do the average on\n",
    "test_s = 0.1 # size of test sample\n",
    "\n",
    "ss = ShuffleSplit(n_splits=nbs,test_size=test_s)\n",
    "X_ind = np.zeros(5599)\n",
    "\n",
    "# parameters for test\n",
    "city=1\n",
    "nbConv=3\n",
    "\n",
    "x_train = [None] * nbs\n",
    "x_test = [None] * nbs\n",
    "\n",
    "y_train = [None] * nbs\n",
    "y_test = [None] * nbs\n",
    "\n",
    "\n",
    "for s, (train_index, test_index) in enumerate(ss.split(X_ind)):\n",
    "    #split data\n",
    "    print(s)\n",
    "    slp_train = X_train_slp[train_index]\n",
    "    slp_test = X_train_slp[test_index]\n",
    "\n",
    "    surge_input_train = X_train_surge[city][train_index]\n",
    "    surge_input_test = X_train_surge[city][test_index]\n",
    "    \n",
    "    #preprocessing (convolutions and scaling) done once for all\n",
    "    prepro = Preprocess()\n",
    "    slp_train_LD = prepro.fit_transform(slp_train, nbConv)\n",
    "    slp_test_LD = prepro.transform(slp_test)\n",
    "    \n",
    "    x_train[s] = np.concatenate((surge_input_train, slp_train_LD), axis=1)\n",
    "    x_test[s] = np.concatenate((surge_input_test, slp_test_LD), axis=1)\n",
    "    \n",
    "    print(x_train[s].shape)\n",
    "\n",
    "    surge_output_train = Y_train[train_index,1:11] if city==1 else Y_train[train_index,11:]\n",
    "    surge_output_test = Y_train[test_index,1:11] if city==1 else Y_train[test_index,11:]\n",
    "\n",
    "    y_train[s] = transform(surge_output_train)\n",
    "    y_test[s] = surge_output_test\n",
    "  "
   ]
  },
  {
   "cell_type": "code",
   "execution_count": null,
   "id": "72ce51ef",
   "metadata": {},
   "outputs": [],
   "source": [
    "# function to call for cross validate a parameter\n",
    "def testParams(learningRate=1e-5, hiddenLayers=(100,),slv='sgd',activ_fun='relu'):\n",
    "    \n",
    "    errors = []\n",
    "    \n",
    "    for s in range(nbs):\n",
    "        print(s)\n",
    "        \n",
    "        print(x_train[s].shape)\n",
    "        \n",
    "        #learn\n",
    "        clf = MLPRegressor(solver=slv, hidden_layer_sizes=((10+x_train[s].shape[1])//2,), \n",
    "                           alpha=learningRate, max_iter=1000, activation=activ_fun)\n",
    "        clf.fit(x_train[s],y_train[s])\n",
    "        \n",
    "        #predict\n",
    "        y_pred = inverse_transform(clf.predict(x_test[s]))\n",
    "        \n",
    "        error = metric_one_surge(y_test[s],y_pred)\n",
    "        errors.append(error)\n",
    "        print(\"error :\",error)\n",
    "    \n",
    "    print(learningRate,errors)\n",
    "    return errors  "
   ]
  },
  {
   "cell_type": "code",
   "execution_count": null,
   "id": "ce1422cc-162f-429d-931f-0e1e49460dbb",
   "metadata": {},
   "outputs": [],
   "source": [
    "testParams()"
   ]
  },
  {
   "cell_type": "code",
   "execution_count": null,
   "id": "d6b52b60-76c9-440a-bf5c-8e62939418ed",
   "metadata": {},
   "outputs": [],
   "source": []
  }
 ],
 "metadata": {
  "kernelspec": {
   "display_name": "Python 3 (ipykernel)",
   "language": "python",
   "name": "python3"
  },
  "language_info": {
   "codemirror_mode": {
    "name": "ipython",
    "version": 3
   },
   "file_extension": ".py",
   "mimetype": "text/x-python",
   "name": "python",
   "nbconvert_exporter": "python",
   "pygments_lexer": "ipython3",
   "version": "3.10.6"
  }
 },
 "nbformat": 4,
 "nbformat_minor": 5
}
