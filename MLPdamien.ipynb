{
 "cells": [
  {
   "cell_type": "code",
   "execution_count": 1,
   "id": "d538498e",
   "metadata": {},
   "outputs": [],
   "source": [
    "import numpy as np\n",
    "import pandas as pd\n",
    "import os\n",
    "from matplotlib import pyplot as plt\n",
    "from time import gmtime, strftime"
   ]
  },
  {
   "cell_type": "code",
   "execution_count": 6,
   "id": "67fbdc60",
   "metadata": {},
   "outputs": [
    {
     "name": "stdout",
     "output_type": "stream",
     "text": [
      "['id_sequence', 't_slp', 'slp', 't_surge1_input', 'surge1_input', 't_surge2_input', 'surge2_input', 't_surge1_output', 't_surge2_output']\n",
      "Index(['id_sequence', 'surge1_t0', 'surge1_t1', 'surge1_t2', 'surge1_t3',\n",
      "       'surge1_t4', 'surge1_t5', 'surge1_t6', 'surge1_t7', 'surge1_t8',\n",
      "       'surge1_t9', 'surge2_t0', 'surge2_t1', 'surge2_t2', 'surge2_t3',\n",
      "       'surge2_t4', 'surge2_t5', 'surge2_t6', 'surge2_t7', 'surge2_t8',\n",
      "       'surge2_t9'],\n",
      "      dtype='object')\n"
     ]
    }
   ],
   "source": [
    "my_path = str(os.getcwd())\n",
    "X_train = np.load(my_path+'/.data/X_train_surge_new.npz')\n",
    "Y_train = pd.read_csv(my_path+'/.data/Y_train_surge.csv')\n",
    "X_test = np.load(my_path+'/.data/X_test_surge_new.npz')\n",
    "print(X_train.files)\n",
    "print(Y_train.columns)\n",
    "Y_train = np.array(Y_train)\n"
   ]
  },
  {
   "cell_type": "code",
   "execution_count": 7,
   "id": "2d36889b",
   "metadata": {},
   "outputs": [
    {
     "name": "stdout",
     "output_type": "stream",
     "text": [
      "[[1.  0.9 0.8 0.7 0.6 0.5 0.4 0.3 0.2 0.1]]\n",
      "[[1.         0.9486833  0.89442719 0.83666003 0.77459667 0.70710678\n",
      "  0.63245553 0.54772256 0.4472136  0.31622777]]\n",
      "[[1.         1.05409255 1.11803399 1.19522861 1.29099445 1.41421356\n",
      "  1.58113883 1.82574186 2.23606798 3.16227766]]\n"
     ]
    }
   ],
   "source": [
    "weights = np.linspace(1, 0.1, 10)[np.newaxis]\n",
    "print(weights)\n",
    "print(np.sqrt(weights))\n",
    "print(1/np.sqrt(np.linspace(1, 0.1, 10)[np.newaxis]))"
   ]
  },
  {
   "cell_type": "code",
   "execution_count": 11,
   "id": "a7f09e2b",
   "metadata": {},
   "outputs": [],
   "source": [
    "def transform(y):\n",
    "    weights = np.sqrt(np.linspace(1, 0.1, 10)[np.newaxis])\n",
    "    return weights*y\n",
    "\n",
    "def inverse_transform(y):\n",
    "    weights = 1/np.sqrt(np.linspace(1, 0.1, 10)[np.newaxis])\n",
    "    return weights*y"
   ]
  },
  {
   "cell_type": "code",
   "execution_count": 8,
   "id": "6d7eaaaf",
   "metadata": {},
   "outputs": [],
   "source": [
    "surge_train = Y_train[:,1:]\n",
    "surge_train1 = surge_train[:,:10]"
   ]
  },
  {
   "cell_type": "code",
   "execution_count": 13,
   "id": "7f20aecd",
   "metadata": {},
   "outputs": [
    {
     "name": "stdout",
     "output_type": "stream",
     "text": [
      "[[ 0.58693592  1.06958024  0.76792754 ... -0.92803097 -0.77385293\n",
      "  -0.37500102]\n",
      " [ 0.76792754 -0.1001619   0.07077463 ... -0.37500102 -0.36159424\n",
      "  -0.21076789]\n",
      " [ 0.07077463 -0.24428486 -0.35489084 ... -0.21076789  0.28863491\n",
      "  -0.72692917]\n",
      " ...\n",
      " [ 0.48303332  0.53330877  1.44832196 ...  0.07077463  0.88858862\n",
      "   1.54552116]\n",
      " [ 1.44832196  1.82036029  1.66283054 ...  1.54552116  1.16677944\n",
      "   0.65396985]\n",
      " [ 1.66283054  1.52876268  1.28408882 ...  0.65396985  0.40929599\n",
      "   0.13780856]]\n",
      "[[ 0.58693592  1.01469291  0.68685527 ... -0.5083035  -0.34607755\n",
      "  -0.11858574]\n",
      " [ 0.76792754 -0.09502192  0.06330275 ... -0.20539652 -0.16170986\n",
      "  -0.06665066]\n",
      " [ 0.07077463 -0.23174896 -0.31742402 ... -0.11544233  0.12908146\n",
      "  -0.22987519]\n",
      " ...\n",
      " [ 0.48303332  0.50594112  1.29541854 ...  0.03876486  0.39738891\n",
      "   0.4887367 ]\n",
      " [ 1.44832196  1.7269454   1.48728085 ...  0.8465168   0.52179963\n",
      "   0.20680342]\n",
      " [ 1.66283054  1.45031162  1.14852396 ...  0.35819404  0.18304273\n",
      "   0.04357889]]\n",
      "[[ 0.58693592  1.06958024  0.76792754 ... -0.92803097 -0.77385293\n",
      "  -0.37500102]\n",
      " [ 0.76792754 -0.1001619   0.07077463 ... -0.37500102 -0.36159424\n",
      "  -0.21076789]\n",
      " [ 0.07077463 -0.24428486 -0.35489084 ... -0.21076789  0.28863491\n",
      "  -0.72692917]\n",
      " ...\n",
      " [ 0.48303332  0.53330877  1.44832196 ...  0.07077463  0.88858862\n",
      "   1.54552116]\n",
      " [ 1.44832196  1.82036029  1.66283054 ...  1.54552116  1.16677944\n",
      "   0.65396985]\n",
      " [ 1.66283054  1.52876268  1.28408882 ...  0.65396985  0.40929599\n",
      "   0.13780856]]\n"
     ]
    }
   ],
   "source": [
    "print(surge_train1)\n",
    "print(transform(surge_train1))\n",
    "print(inverse_transform(transform(surge_train1)))"
   ]
  }
 ],
 "metadata": {
  "kernelspec": {
   "display_name": "Python 3 (ipykernel)",
   "language": "python",
   "name": "python3"
  },
  "language_info": {
   "codemirror_mode": {
    "name": "ipython",
    "version": 3
   },
   "file_extension": ".py",
   "mimetype": "text/x-python",
   "name": "python",
   "nbconvert_exporter": "python",
   "pygments_lexer": "ipython3",
   "version": "3.10.6"
  }
 },
 "nbformat": 4,
 "nbformat_minor": 5
}
