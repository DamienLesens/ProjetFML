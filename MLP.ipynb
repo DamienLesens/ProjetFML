{
 "cells": [
  {
   "cell_type": "markdown",
   "id": "468c4bd8-24cb-4fd7-a6a9-cd81913c20d4",
   "metadata": {},
   "source": [
    "# Attempt with sklearn's MLPClassifier"
   ]
  },
  {
   "cell_type": "code",
   "execution_count": 2,
   "id": "de25c886-0d4a-4551-9487-a5b81bb85a0d",
   "metadata": {},
   "outputs": [],
   "source": [
    "import numpy as np\n",
    "import pandas as pd\n",
    "from sklearn.neural_network import MLPRegressor\n",
    "from sklearn.preprocessing import StandardScaler  \n",
    "from sklearn.decomposition import PCA\n",
    "from sklearn.model_selection import ShuffleSplit\n",
    "from matplotlib import pyplot as plt\n",
    "import os\n",
    "from multiprocessing import Pool"
   ]
  },
  {
   "cell_type": "code",
   "execution_count": 3,
   "id": "e345106b-a59f-4107-92d6-6c18afb12434",
   "metadata": {},
   "outputs": [],
   "source": [
    "my_path = str(os.getcwd())\n",
    "X_train = np.load(my_path+'/.data/X_train_surge_new.npz')\n",
    "X_train_slp = X_train['slp']\n",
    "X_train_surge1 = X_train['surge1_input']\n",
    "X_train_surge2 = X_train['surge2_input']\n",
    "X_train_surge = [None,X_train_surge1,X_train_surge2]\n",
    "Y_train = np.array(pd.read_csv(my_path+'/.data/Y_train_surge.csv'))\n",
    "X_test = np.load(my_path+'/.data/X_test_surge_new.npz')"
   ]
  },
  {
   "cell_type": "code",
   "execution_count": 4,
   "id": "c3f3902a-3f09-462d-977c-7cda601702a4",
   "metadata": {},
   "outputs": [],
   "source": [
    "def surge_prediction_metric(dataframe_y_true, dataframe_y_pred):\n",
    "    weights = np.linspace(1, 0.1, 10)[np.newaxis]\n",
    "    surge1_columns = [\n",
    "        'surge1_t0', 'surge1_t1', 'surge1_t2', 'surge1_t3', 'surge1_t4',\n",
    "        'surge1_t5', 'surge1_t6', 'surge1_t7', 'surge1_t8', 'surge1_t9' ]\n",
    "    surge2_columns = [\n",
    "        'surge2_t0', 'surge2_t1', 'surge2_t2', 'surge2_t3', 'surge2_t4',\n",
    "        'surge2_t5', 'surge2_t6', 'surge2_t7', 'surge2_t8', 'surge2_t9' ]\n",
    "    surge1_score = (weights * (dataframe_y_true[surge1_columns].values - dataframe_y_pred[surge1_columns].values)**2).mean()\n",
    "    surge2_score = (weights * (dataframe_y_true[surge2_columns].values - dataframe_y_pred[surge2_columns].values)**2).mean()\n",
    "\n",
    "    return surge1_score + surge2_score\n",
    "\n",
    "def metric_one_surge(y_true,y_pred):\n",
    "    weights = np.linspace(1, 0.1, 10)[np.newaxis]\n",
    "    score = (weights*(y_true-y_pred)**2).mean()\n",
    "    return score"
   ]
  },
  {
   "cell_type": "markdown",
   "id": "088d34e9-90a6-4d07-b9c0-2937f7143ab0",
   "metadata": {},
   "source": [
    "### Utilitary functions for ruling 'weights' issue"
   ]
  },
  {
   "cell_type": "code",
   "execution_count": 5,
   "id": "b984644e-5c9b-473b-93ab-d669f335f263",
   "metadata": {},
   "outputs": [],
   "source": [
    "# should be applied to Y_train before learning\n",
    "def transform(y):\n",
    "    weights = np.sqrt(np.linspace(1, 0.1, 10)[np.newaxis])\n",
    "    return weights*y\n",
    "\n",
    "# should be applied to Y_pred after test\n",
    "def inverse_transform(y):\n",
    "    weights = 1/np.sqrt(np.linspace(1, 0.1, 10)[np.newaxis])\n",
    "    return weights*y"
   ]
  },
  {
   "cell_type": "markdown",
   "id": "9a74aa7b-2b11-471e-beae-c0bedfb93c6b",
   "metadata": {},
   "source": [
    "## Use MLP only on surge levels"
   ]
  },
  {
   "cell_type": "markdown",
   "id": "ebd0a8d8-2eaa-493e-ba6f-31e9570f8408",
   "metadata": {},
   "source": [
    "**Goal**: Is part surges data enough to predict the tide ?"
   ]
  },
  {
   "cell_type": "markdown",
   "id": "2e2cf26e-4692-4dcd-b97f-b13b4370221b",
   "metadata": {},
   "source": [
    "#### 1. First city:"
   ]
  },
  {
   "cell_type": "code",
   "execution_count": 5,
   "id": "3c0980ea-9cf5-41db-8bd2-f47051f6bb0a",
   "metadata": {},
   "outputs": [],
   "source": [
    "# Extract 1st city data\n",
    "surge1_y_train = transform(np.array(Y_train)[:,1:11])\n",
    "\n",
    "surge1_x_train = np.array(X_train['surge1_input'])\n",
    "\n",
    "surge1_x_test = np.array(X_test['surge1_input'])"
   ]
  },
  {
   "cell_type": "code",
   "execution_count": 6,
   "id": "6373b5e6-16f6-4ebd-9bbd-e597dea51ac7",
   "metadata": {},
   "outputs": [],
   "source": [
    "clf = MLPRegressor(solver='sgd', hidden_layer_sizes=(10,), alpha=1e-5, random_state=1)\n",
    "clf.fit(surge1_x_train, surge1_y_train)\n",
    "surge1_y_test = clf.predict(surge1_x_test)"
   ]
  },
  {
   "cell_type": "markdown",
   "id": "f0df9ee3-d6fd-4149-ac5a-383116db5dbe",
   "metadata": {},
   "source": [
    "#### 2. Second city:"
   ]
  },
  {
   "cell_type": "code",
   "execution_count": 7,
   "id": "026ccefc-78af-4600-9745-63f283a0f202",
   "metadata": {},
   "outputs": [],
   "source": [
    "# Extract 2nd city data\n",
    "surge2_y_train = transform(np.array(Y_train)[:,11:])\n",
    "\n",
    "surge2_x_train = np.array(X_train['surge2_input']) \n",
    "\n",
    "surge2_x_test = np.array(X_test['surge2_input'])"
   ]
  },
  {
   "cell_type": "code",
   "execution_count": 8,
   "id": "e1ca0de7-4a37-480b-bdb0-5d8a8f840325",
   "metadata": {},
   "outputs": [],
   "source": [
    "clf = MLPRegressor(solver='sgd', hidden_layer_sizes=(10,), alpha=1e-5, random_state=1)\n",
    "clf.fit(surge2_x_train, surge2_y_train)\n",
    "surge2_y_test = clf.predict(surge2_x_test)"
   ]
  },
  {
   "cell_type": "markdown",
   "id": "97f274c7-6f98-4929-ae92-062ccbb3e805",
   "metadata": {},
   "source": [
    "Result of this method: 0.88\n",
    "\n",
    "Pretty bad, it shows that we need the information of the slp"
   ]
  },
  {
   "cell_type": "markdown",
   "id": "e5d0861f-2cde-4fcd-924d-c9c9d9f74c8d",
   "metadata": {},
   "source": [
    "## Take into account slp"
   ]
  },
  {
   "cell_type": "markdown",
   "id": "b6e86a6b-4db0-4cf8-960a-1a996adb8e14",
   "metadata": {},
   "source": [
    "### 1. Dimension reduction of slp data (using PCA)"
   ]
  },
  {
   "cell_type": "code",
   "execution_count": 6,
   "id": "72440d10-ecb0-414e-9abd-d7f7e4738708",
   "metadata": {},
   "outputs": [],
   "source": [
    "def slp_to_flat_images(slp):\n",
    "    a,b,c,d = np.shape(slp)\n",
    "    return slp.reshape((a*b,c*d))\n",
    "\n",
    "class Preprocess:\n",
    "    \n",
    "    _pca = PCA()\n",
    "    _scaler1 = StandardScaler()\n",
    "    _scaler2 = StandardScaler()\n",
    "    \n",
    "    def fit_transform(self,slp,nb_comp):\n",
    "        #reshape\n",
    "        list_flat_images = slp_to_flat_images(slp)\n",
    "        # print(list_flat_images.shape)\n",
    "        #normalize\n",
    "        list_flat_images = self._scaler1.fit_transform(list_flat_images)\n",
    "        #fit PCA and transform\n",
    "        self._pca = PCA(n_components=nb_comp)\n",
    "        slp_LD = self._pca.fit_transform(list_flat_images)\n",
    "        #reshape\n",
    "        slp_LD = np.array([np.concatenate(slp_LD[i*40:(i+1)*40]) for i in range(len(slp))])\n",
    "        #renormalize\n",
    "        slp_LD = self._scaler2.fit_transform(slp_LD)\n",
    "        return slp_LD\n",
    "    \n",
    "    def transform(self,slp):\n",
    "        flat = slp_to_flat_images(slp)\n",
    "        flat = self._scaler1.transform(flat)\n",
    "        slp_LD = self._pca.transform(flat)\n",
    "        slp_LD = np.array([np.concatenate(slp_LD[i*40:(i+1)*40]) for i in range(len(slp))])\n",
    "        slp_LD = self._scaler2.transform(slp_LD)\n",
    "        # print(slp_LD.shape)\n",
    "        # print(slp_LD.shape)\n",
    "        return slp_LD"
   ]
  },
  {
   "cell_type": "code",
   "execution_count": 18,
   "id": "c6ffa5ad-c43a-4f59-b337-73ef7af6fa71",
   "metadata": {},
   "outputs": [
    {
     "name": "stdout",
     "output_type": "stream",
     "text": [
      "(5599, 160)\n"
     ]
    }
   ],
   "source": [
    "prepro = Preprocess()\n",
    "slp_train_LD = prepro.fit_transform(X_train['slp'], 4)\n",
    "print(slp_train_LD.shape)"
   ]
  },
  {
   "cell_type": "code",
   "execution_count": 19,
   "id": "6cf17828-a385-453a-9a7a-18e19e7cd959",
   "metadata": {},
   "outputs": [],
   "source": [
    "slp_test_LD = prepro.transform(X_test['slp'])"
   ]
  },
  {
   "cell_type": "markdown",
   "id": "e597c888",
   "metadata": {},
   "source": [
    "### 2. Cross validation"
   ]
  },
  {
   "cell_type": "markdown",
   "id": "276d4387",
   "metadata": {},
   "source": [
    "cross validating for one city at a time as we train different models for both\n",
    "\n",
    "Hyperparameters to test (ordered by priority):\n",
    "- learning rate\n",
    "- activation function\n",
    "- number of dimensions to which we reduce the slp images\n",
    "- hidden layer size (if we follow the rule of thumb this would be 1 layer with (size(input)+size(output))/2 neurons)"
   ]
  },
  {
   "cell_type": "markdown",
   "id": "d730f2fe",
   "metadata": {},
   "source": [
    "Be carefull to do the preprocess after having split the data into train/test"
   ]
  },
  {
   "cell_type": "code",
   "execution_count": 9,
   "id": "c00ad96b",
   "metadata": {},
   "outputs": [],
   "source": [
    "# prepare validation dataset (extract test from the data we have)\n",
    "nbs = 10 #number of splits to do the average on\n",
    "test_s = 0.1 # size of test sample\n",
    "ss = ShuffleSplit(n_splits=nbs,test_size=test_s)\n",
    "X_ind = np.zeros(5599)\n",
    "\n",
    "# function to call for cross validate a parameter\n",
    "def testParams(city=1, learningRate=1e-5, dimPCA=4, hiddenLayers=(100,),slv='sgd',activ_fun='relu'):\n",
    "    \n",
    "    errors = []\n",
    "    \n",
    "    for s, (train_index, test_index) in enumerate(ss.split(X_ind)):\n",
    "        print(s)\n",
    "        #split data\n",
    "        slp_train = X_train_slp[train_index]\n",
    "        slp_test = X_train_slp[test_index]\n",
    "        \n",
    "        surge_input_train = X_train_surge[city][train_index]\n",
    "        surge_input_test = X_train_surge[city][test_index]\n",
    "        \n",
    "        surge_output_train = Y_train[train_index,1:11] if city==1 else Y_train[train_index,11:]\n",
    "        surge_output_test = Y_train[test_index,1:11] if city==1 else Y_train[test_index,11:]\n",
    "        \n",
    "        #preprocessing\n",
    "        prepro = Preprocess()\n",
    "        slp_train_LD = prepro.fit_transform(slp_train, dimPCA)\n",
    "        slp_test_LD = prepro.transform(slp_test)\n",
    "        \n",
    "        y_train = transform(surge_output_train)\n",
    "        \n",
    "        #concatenate slp and surge input\n",
    "        x_train = np.concatenate((surge_input_train, slp_train_LD), axis=1)\n",
    "        x_test = np.concatenate((surge_input_test, slp_test_LD), axis=1)\n",
    "        \n",
    "        #learn\n",
    "        clf = MLPRegressor(solver=slv, hidden_layer_sizes=((10+10+40*dimPCA)//2,), alpha=learningRate,max_iter=1000,activation=activ_fun)\n",
    "        clf.fit(x_train,transform(y_train))\n",
    "        \n",
    "        #predict\n",
    "        y_pred = inverse_transform(clf.predict(x_test))\n",
    "        \n",
    "        error = metric_one_surge(surge_output_test,y_pred)\n",
    "        errors.append(error)\n",
    "        print(\"error :\",error)\n",
    "    \n",
    "    print(learningRate,errors)\n",
    "    return errors    "
   ]
  },
  {
   "cell_type": "markdown",
   "id": "bb21520f-288e-445b-828a-367f82a9a15b",
   "metadata": {},
   "source": [
    "#### Learning rate optimisation: (Be careful running this cell is veeery long)"
   ]
  },
  {
   "cell_type": "code",
   "execution_count": 15,
   "id": "d2c86f45-9db5-42db-991e-b08881706d0a",
   "metadata": {
    "tags": []
   },
   "outputs": [
    {
     "name": "stdout",
     "output_type": "stream",
     "text": [
      "0\n",
      "error : 0.19865277134121534\n",
      "1\n",
      "error : 0.18368712111198285\n",
      "2\n",
      "error : 0.19303943768080362\n",
      "3\n",
      "error : 0.20269063497304415\n",
      "4\n",
      "error : 0.18664653924359653\n",
      "5\n",
      "error : 0.20860738024360428\n",
      "6\n",
      "error : 0.2035203493486712\n",
      "7\n",
      "error : 0.18605999978196527\n",
      "8\n",
      "error : 0.19646909224792625\n",
      "9\n",
      "error : 0.1712068897661291\n",
      "1e-05 [0.19865277134121534, 0.18368712111198285, 0.19303943768080362, 0.20269063497304415, 0.18664653924359653, 0.20860738024360428, 0.2035203493486712, 0.18605999978196527, 0.19646909224792625, 0.1712068897661291]\n",
      "0\n",
      "error : 0.18647955982377246\n",
      "1\n",
      "error : 0.1764504308334965\n",
      "2\n",
      "error : 0.18106959563948785\n",
      "3\n",
      "error : 0.1645207580221714\n",
      "4\n",
      "error : 0.18178505981077672\n",
      "5\n",
      "error : 0.18769306628619428\n",
      "6\n",
      "error : 0.16995179456754325\n",
      "7\n",
      "error : 0.20138959961900207\n",
      "8\n",
      "error : 0.18329683489426046\n",
      "9\n",
      "error : 0.18168975169162338\n",
      "1e-05 [0.18647955982377246, 0.1764504308334965, 0.18106959563948785, 0.1645207580221714, 0.18178505981077672, 0.18769306628619428, 0.16995179456754325, 0.20138959961900207, 0.18329683489426046, 0.18168975169162338]\n",
      "0\n",
      "error : 0.21039341347295834\n",
      "1\n",
      "error : 0.18807513826524486\n",
      "2\n",
      "error : 0.17854103386436962\n",
      "3\n",
      "error : 0.17761296708332727\n",
      "4\n",
      "error : 0.19074062112872833\n",
      "5\n",
      "error : 0.17736063154594126\n",
      "6\n",
      "error : 0.17204364210476772\n",
      "7\n",
      "error : 0.17587883626371423\n",
      "8\n",
      "error : 0.17692902683307432\n",
      "9\n",
      "error : 0.1858671315139136\n",
      "1e-05 [0.21039341347295834, 0.18807513826524486, 0.17854103386436962, 0.17761296708332727, 0.19074062112872833, 0.17736063154594126, 0.17204364210476772, 0.17587883626371423, 0.17692902683307432, 0.1858671315139136]\n",
      "0\n",
      "error : 0.19545188758979862\n",
      "1\n",
      "error : 0.19159398526746907\n",
      "2\n",
      "error : 0.18156902810438988\n",
      "3\n",
      "error : 0.18633313648829097\n",
      "4\n",
      "error : 0.1726685306680995\n",
      "5\n",
      "error : 0.20571805958595857\n",
      "6\n",
      "error : 0.16467666370988646\n",
      "7\n",
      "error : 0.15501784838288513\n",
      "8\n",
      "error : 0.17443327709911463\n",
      "9\n",
      "error : 0.17621130949540836\n",
      "1e-05 [0.19545188758979862, 0.19159398526746907, 0.18156902810438988, 0.18633313648829097, 0.1726685306680995, 0.20571805958595857, 0.16467666370988646, 0.15501784838288513, 0.17443327709911463, 0.17621130949540836]\n",
      "0\n",
      "error : 0.18654446120408624\n",
      "1\n",
      "error : 0.17452943875064786\n",
      "2\n",
      "error : 0.17728134620360883\n",
      "3\n",
      "error : 0.1672235485211085\n",
      "4\n",
      "error : 0.17065834798232896\n",
      "5\n",
      "error : 0.18968056796687718\n",
      "6\n",
      "error : 0.18134124402222426\n",
      "7\n",
      "error : 0.17797837576921446\n",
      "8\n",
      "error : 0.19766154584848716\n",
      "9\n",
      "error : 0.1891734951955002\n",
      "1e-05 [0.18654446120408624, 0.17452943875064786, 0.17728134620360883, 0.1672235485211085, 0.17065834798232896, 0.18968056796687718, 0.18134124402222426, 0.17797837576921446, 0.19766154584848716, 0.1891734951955002]\n"
     ]
    }
   ],
   "source": [
    "solvers = ['sgd', 'adam']\n",
    "activ_funs = ['identity', 'logistic', 'tanh', 'relu']\n",
    "PCAdims = [i for i in range(5,10)]\n",
    "alpha = [10**-i for i in range(1,10)]\n",
    "errs = np.array([testParams(city=2,dimPCA=k) for k in PCAdims])\n",
    "#errs = np.array([testParams(city=2,learningRate=a,slv='adam') for a in alpha])\n",
    "avgerrs = np.mean(errs,axis=1)"
   ]
  },
  {
   "cell_type": "code",
   "execution_count": 16,
   "id": "3f4b1a70-f45c-4205-8ecf-381f29684cc7",
   "metadata": {
    "scrolled": true
   },
   "outputs": [
    {
     "name": "stdout",
     "output_type": "stream",
     "text": [
      "[[0.19865277 0.18368712 0.19303944 0.20269063 0.18664654 0.20860738\n",
      "  0.20352035 0.18606    0.19646909 0.17120689]\n",
      " [0.18647956 0.17645043 0.1810696  0.16452076 0.18178506 0.18769307\n",
      "  0.16995179 0.2013896  0.18329683 0.18168975]\n",
      " [0.21039341 0.18807514 0.17854103 0.17761297 0.19074062 0.17736063\n",
      "  0.17204364 0.17587884 0.17692903 0.18586713]\n",
      " [0.19545189 0.19159399 0.18156903 0.18633314 0.17266853 0.20571806\n",
      "  0.16467666 0.15501785 0.17443328 0.17621131]\n",
      " [0.18654446 0.17452944 0.17728135 0.16722355 0.17065835 0.18968057\n",
      "  0.18134124 0.17797838 0.19766155 0.1891735 ]]\n"
     ]
    },
    {
     "data": {
      "image/png": "[encoded data removed]",
      "text/plain": [
       "<Figure size 432x288 with 1 Axes>"
      ]
     },
     "metadata": {
      "needs_background": "light"
     },
     "output_type": "display_data"
    },
    {
     "name": "stdout",
     "output_type": "stream",
     "text": [
      "[0.19305802 0.18143265 0.18334424 0.18036737 0.18120724]\n"
     ]
    }
   ],
   "source": [
    "print(errs)\n",
    "plt.xscale('log', base=10)\n",
    "plt.plot(PCAdims,avgerrs)\n",
    "plt.show()\n",
    "print(avgerrs)"
   ]
  },
  {
   "cell_type": "markdown",
   "id": "71089f9c",
   "metadata": {},
   "source": [
    "Conclusion :\n",
    "\n",
    "Hyperparameters for city 1 :\n",
    "- alpha = 1e-5\n",
    "\n",
    "Hyperparameters for city 2 :\n",
    "- alpha is basically the same\n",
    "\n",
    "Identity activation function is better for both\n",
    "\n",
    "augmenting PCA dimension seems to be better for cross-validation tests, but doesnt translates to a better result on the site..."
   ]
  },
  {
   "cell_type": "markdown",
   "id": "cf884c89-b30d-4911-b18c-11a245230727",
   "metadata": {},
   "source": [
    "### 3. Prediction"
   ]
  },
  {
   "cell_type": "markdown",
   "id": "54588b05-5ddb-4b36-892a-5b0a9496bd61",
   "metadata": {},
   "source": [
    "#### 1. First city:"
   ]
  },
  {
   "cell_type": "code",
   "execution_count": 26,
   "id": "40fba6ad-17fe-4a7a-9ccf-72b702e6b757",
   "metadata": {},
   "outputs": [
    {
     "name": "stdout",
     "output_type": "stream",
     "text": [
      "[[-5.4593754e-01  1.3110517e-01  3.1880018e-01 ...  1.8659165e+00\n",
      "   2.8711839e+00  1.8419557e-04]\n",
      " [ 3.1880018e-01  1.9478741e-01 -2.2752637e-01 ...  2.2618122e+00\n",
      "   4.3655925e+00  4.0389067e-01]\n",
      " [-2.2752637e-01 -4.0181461e-01 -8.7440383e-01 ...  1.2428132e+00\n",
      "   2.5140035e+00 -3.7171990e-01]\n",
      " ...\n",
      " [ 5.0984687e-01  8.7518185e-01  1.8505255e+00 ... -8.3915585e-01\n",
      "   6.7250866e-01 -1.1371883e-01]\n",
      " [ 1.8505255e+00  1.1935930e+00  1.3980465e+00 ... -8.7895751e-01\n",
      "   2.0118426e-01 -1.8728971e-01]\n",
      " [ 1.3980465e+00  1.7801399e+00  1.4516736e+00 ... -6.3044600e-02\n",
      "   1.2727228e+00 -7.1262109e-01]]\n"
     ]
    }
   ],
   "source": [
    "# Extract 1st city data\n",
    "surge1_y_train = transform(np.array(Y_train)[:,1:11])\n",
    "\n",
    "surge1_input = np.array(X_train['surge1_input'])\n",
    "surge1_x_train = np.concatenate((surge1_input, slp_train_LD), axis=1)\n",
    "\n",
    "surge1_x_test = np.concatenate((np.array(X_test['surge1_input']), slp_test_LD), axis=1)\n",
    "\n",
    "print(surge1_x_train)"
   ]
  },
  {
   "cell_type": "code",
   "execution_count": 27,
   "id": "e8ca9360-b2e7-4d5d-970f-68e4b6a8b518",
   "metadata": {},
   "outputs": [],
   "source": [
    "dimPCA1 = 6\n",
    "clf = MLPRegressor(solver='sgd', hidden_layer_sizes=((10+10+40*dimPCA1)//2,), alpha=1e-5,max_iter=1000,activation='identity')\n",
    "clf.fit(surge1_x_train, surge1_y_train)\n",
    "surge1_y_test = clf.predict(surge1_x_test)"
   ]
  },
  {
   "cell_type": "markdown",
   "id": "81276c55-88b9-4177-8001-034ba84d188b",
   "metadata": {},
   "source": [
    "#### 2. Second city:"
   ]
  },
  {
   "cell_type": "code",
   "execution_count": 28,
   "id": "476c1c8c-886d-4b7b-8511-00074d9f10f8",
   "metadata": {},
   "outputs": [],
   "source": [
    "# Extract 2nd city data\n",
    "surge2_y_train = transform(np.array(Y_train)[:,11:])\n",
    "\n",
    "surge2_input = np.array(X_train['surge2_input'])\n",
    "surge2_x_train = np.concatenate((surge2_input, slp_train_LD), axis=1)\n",
    "\n",
    "surge2_x_test = np.concatenate((np.array(X_test['surge2_input']), slp_test_LD), axis=1)"
   ]
  },
  {
   "cell_type": "code",
   "execution_count": 29,
   "id": "438979c8-8444-432a-930f-96c417657d1f",
   "metadata": {},
   "outputs": [],
   "source": [
    "dimPCA2 = 9\n",
    "clf = MLPRegressor(solver='sgd', hidden_layer_sizes=((10+10+40*dimPCA2)//2,), alpha=1e-5,max_iter=1000,activation='identity')\n",
    "clf.fit(surge2_x_train, surge2_y_train)\n",
    "surge2_y_test = clf.predict(surge2_x_test)"
   ]
  },
  {
   "cell_type": "markdown",
   "id": "6dbc84fc-273e-4c0d-bbf1-10eaea52be07",
   "metadata": {},
   "source": [
    "Result:"
   ]
  },
  {
   "cell_type": "markdown",
   "id": "f80851d2-fc67-4c03-a596-a929022f779d",
   "metadata": {},
   "source": [
    "## Generate output"
   ]
  },
  {
   "cell_type": "code",
   "execution_count": 30,
   "id": "159efde3-5c3b-4190-bcb9-d2bfdd220798",
   "metadata": {},
   "outputs": [],
   "source": [
    "# transform clf output\n",
    "surge_pred = np.concatenate((inverse_transform(surge1_y_test), inverse_transform(surge2_y_test)), axis=1)"
   ]
  },
  {
   "cell_type": "code",
   "execution_count": 31,
   "id": "1bb83014-44d1-499f-b6cd-c80b18e915f1",
   "metadata": {},
   "outputs": [],
   "source": [
    "y_columns = [f'surge1_t{i}' for i in range(10)] + [f'surge2_t{i}' for i in range(10)]\n",
    "Y_pred = pd.DataFrame(data=surge_pred, columns=y_columns, index=X_test['id_sequence'])\n",
    "Y_pred.to_csv('Y_sep_MLP_id_highPCA.csv', index_label='id_sequence', sep=',')"
   ]
  },
  {
   "cell_type": "code",
   "execution_count": null,
   "id": "da8870c8",
   "metadata": {},
   "outputs": [],
   "source": []
  }
 ],
 "metadata": {
  "kernelspec": {
   "display_name": "Python 3 (ipykernel)",
   "language": "python",
   "name": "python3"
  },
  "language_info": {
   "codemirror_mode": {
    "name": "ipython",
    "version": 3
   },
   "file_extension": ".py",
   "mimetype": "text/x-python",
   "name": "python",
   "nbconvert_exporter": "python",
   "pygments_lexer": "ipython3",
   "version": "3.10.6"
  }
 },
 "nbformat": 4,
 "nbformat_minor": 5
}
