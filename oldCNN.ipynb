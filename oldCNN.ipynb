{
 "cells": [
  {
   "cell_type": "code",
   "execution_count": 1,
   "id": "63d95533-10b2-4b55-96aa-119b2a26c059",
   "metadata": {
    "tags": []
   },
   "outputs": [],
   "source": [
    "import numpy as np\n",
    "import pandas as pd\n",
    "\n",
    "# import tensorflow as tf\n",
    "# from tensorflow.keras import datasets, layers, models\n",
    "\n",
    "import skimage.measure\n",
    "from scipy import signal\n",
    "\n",
    "from sklearn.neural_network import MLPRegressor\n",
    "from sklearn.preprocessing import StandardScaler  \n",
    "from sklearn.decomposition import PCA\n",
    "from sklearn.model_selection import ShuffleSplit\n",
    "\n",
    "from matplotlib import pyplot as plt\n",
    "import os\n",
    "from multiprocessing import Pool"
   ]
  },
  {
   "cell_type": "code",
   "execution_count": 2,
   "id": "e44bc39b-3919-4d9d-9fe8-90cb8fe9a363",
   "metadata": {
    "tags": []
   },
   "outputs": [],
   "source": [
    "my_path = str(os.getcwd())\n",
    "X_train = np.load(my_path+'/.data/X_train_surge_new.npz')\n",
    "X_train_slp = X_train['slp']\n",
    "X_train_surge1 = X_train['surge1_input']\n",
    "X_train_surge2 = X_train['surge2_input']\n",
    "X_train_surge = [None,X_train_surge1,X_train_surge2]\n",
    "Y_train = np.array(pd.read_csv(my_path+'/.data/Y_train_surge.csv'))\n",
    "X_test = np.load(my_path+'/.data/X_test_surge_new.npz')"
   ]
  },
  {
   "cell_type": "code",
   "execution_count": 3,
   "id": "1a3349b7-1b08-458a-b5ed-b96534d0c6de",
   "metadata": {
    "tags": []
   },
   "outputs": [],
   "source": [
    "def surge_prediction_metric(dataframe_y_true, dataframe_y_pred):\n",
    "    weights = np.linspace(1, 0.1, 10)[np.newaxis]\n",
    "    surge1_columns = [\n",
    "        'surge1_t0', 'surge1_t1', 'surge1_t2', 'surge1_t3', 'surge1_t4',\n",
    "        'surge1_t5', 'surge1_t6', 'surge1_t7', 'surge1_t8', 'surge1_t9' ]\n",
    "    surge2_columns = [\n",
    "        'surge2_t0', 'surge2_t1', 'surge2_t2', 'surge2_t3', 'surge2_t4',\n",
    "        'surge2_t5', 'surge2_t6', 'surge2_t7', 'surge2_t8', 'surge2_t9' ]\n",
    "    surge1_score = (weights * (dataframe_y_true[surge1_columns].values - dataframe_y_pred[surge1_columns].values)**2).mean()\n",
    "    surge2_score = (weights * (dataframe_y_true[surge2_columns].values - dataframe_y_pred[surge2_columns].values)**2).mean()\n",
    "\n",
    "    return surge1_score + surge2_score\n",
    "\n",
    "def metric_one_surge(y_true,y_pred):\n",
    "    weights = np.linspace(1, 0.1, 10)[np.newaxis]\n",
    "    score = (weights*(y_true-y_pred)**2).mean()\n",
    "    return score"
   ]
  },
  {
   "cell_type": "markdown",
   "id": "4b626eaa-c95a-4311-8f60-8c52de859bd9",
   "metadata": {},
   "source": [
    "### Utilitary functions for ruling 'weights' issue"
   ]
  },
  {
   "cell_type": "code",
   "execution_count": 4,
   "id": "54fd427b-afa4-4eea-9dde-24652156c651",
   "metadata": {
    "tags": []
   },
   "outputs": [],
   "source": [
    "# should be applied to Y_train before learning\n",
    "def transform(y):\n",
    "    weights = np.sqrt(np.linspace(1, 0.1, 10)[np.newaxis])\n",
    "    return weights*y\n",
    "\n",
    "# should be applied to Y_pred after test\n",
    "def inverse_transform(y):\n",
    "    weights = 1/np.sqrt(np.linspace(1, 0.1, 10)[np.newaxis])\n",
    "    return weights*y"
   ]
  },
  {
   "cell_type": "markdown",
   "id": "1a0d6217-a638-47f6-9945-9198012402a2",
   "metadata": {},
   "source": [
    "## Use CNN only on pressure"
   ]
  },
  {
   "cell_type": "code",
   "execution_count": 5,
   "id": "0eeb1d4e-2171-4e0e-b509-1fd7c2b9c0de",
   "metadata": {},
   "outputs": [],
   "source": [
    "kernel = np.array([[1, 2, 1],\n",
    "                   [2, 4, 2],\n",
    "                   [1, 2, 1]])\n",
    "kernel = (1/kernel.sum()) * kernel\n",
    "\n",
    "def dimReduceConv(img, nbsteps):\n",
    "    for i in range(nbsteps):\n",
    "        # gaussian convolution\n",
    "        img = signal.convolve2d(img, kernel)\n",
    "        # max pooling\n",
    "        img = skimage.measure.block_reduce(img, (2,2), np.max)\n",
    "    img = signal.convolve2d(img, kernel)\n",
    "    return img\n",
    "    "
   ]
  },
  {
   "cell_type": "code",
   "execution_count": 6,
   "id": "07400dd1-8105-4765-9c4d-c62f822746f4",
   "metadata": {
    "tags": []
   },
   "outputs": [],
   "source": [
    "def slp_to_flat_images(slp):\n",
    "    a,b,c,d = np.shape(slp)\n",
    "    return slp.reshape((a*b,c,d))\n",
    "\n",
    "class Preprocess:\n",
    "    \n",
    "    _scaler1 = StandardScaler()\n",
    "    _scaler2 = StandardScaler()\n",
    "    \n",
    "    def fit_transform(self,slp,nb_levels):\n",
    "        #reshape\n",
    "        list_flat_images = slp_to_flat_images(slp)\n",
    "\n",
    "        #normalize\n",
    "        list_flat_images = self._scaler1.fit_transform(list_flat_images.reshape(-1, list_flat_images.shape[-1])).reshape(list_flat_images.shape)\n",
    "        \n",
    "        self.nblevels = nb_levels\n",
    "        \n",
    "        # convolve\n",
    "        slp_LD = []\n",
    "        for img in list_flat_images:\n",
    "            flatImg = dimReduceConv(img,nb_levels).flatten()\n",
    "            slp_LD.append(flatImg)\n",
    "        \n",
    "        # reshape array\n",
    "        slp_LD = np.array([np.concatenate(slp_LD[i*40:(i+1)*40]) for i in range(len(slp))])\n",
    "        \n",
    "        #renormalize\n",
    "        slp_LD = self._scaler2.fit_transform(slp_LD)\n",
    "        \n",
    "        return slp_LD\n",
    "    \n",
    "    def transform(self,slp):\n",
    "        flat = slp_to_flat_images(slp)\n",
    "        flat = self._scaler1.transform(flat.reshape(-1, flat.shape[-1])).reshape(flat.shape)\n",
    "\n",
    "        # convolve\n",
    "        slp_LD = []\n",
    "        for img in flat:\n",
    "            flatImg = dimReduceConv(img,self.nblevels).flatten()\n",
    "            slp_LD.append(flatImg)\n",
    "                          \n",
    "        slp_LD = np.array([np.concatenate(slp_LD[i*40:(i+1)*40]) for i in range(len(slp))])\n",
    "        slp_LD = self._scaler2.transform(slp_LD)\n",
    "        # print(slp_LD.shape)\n",
    "        # print(slp_LD.shape)\n",
    "        return slp_LD"
   ]
  },
  {
   "cell_type": "code",
   "execution_count": null,
   "id": "63d55d95-fb4d-4ea8-8b3c-3349bf3b5a1b",
   "metadata": {
    "tags": []
   },
   "outputs": [],
   "source": [
    "# common preprocess\n",
    "prepro = Preprocess()\n",
    "slp_train_LD = prepro.fit_transform(X_train_slp, 3)\n",
    "slp_test_LD = prepro.transform(X_test['slp'])\n",
    "\n",
    "# city 1\n",
    "surge1_input_train = X_train_surge[1][train_index]\n",
    "surge1_input_test = X_train_surge[1][test_index]\n",
    "\n",
    "surge1_output_train = Y_train[train_index,1:11]\n",
    "surge1_output_test = Y_train[test_index,1:11]\n",
    "\n",
    "y_train1 = transform(surge1_output_train)\n",
    "\n",
    "x_train1 = np.concatenate((surge1_input_train, slp_train_LD), axis=1)\n",
    "x_test1 = np.concatenate((surge1_input_test, slp_test_LD), axis=1)\n",
    "\n",
    "clf1 = MLPRegressor(solver=slv, hidden_layer_sizes=((10+10+40*dimPCA)//2,), \n",
    "                    alpha=learningRate,max_iter=1000,activation=activ_fun)\n",
    "clf1.fit(x_train1,transform(y_train1))\n",
    "\n",
    "y_pred1 = inverse_transform(clf1.predict(x_test1))\n",
    "\n",
    "# city 2\n",
    "surge1_input_train = X_train_surge[2][train_index]\n",
    "surge1_input_test = X_train_surge[2][test_index]\n",
    "\n",
    "surge2_output_train = Y_train[train_index,11:]\n",
    "surge2_output_test = Y_train[test_index,11:]\n",
    "\n",
    "y_train2 = transform(surge2_output_train)\n",
    "\n",
    "x_train2 = np.concatenate((surge2_input_train, slp_train_LD), axis=1)\n",
    "x_test2 = np.concatenate((surge2_input_test, slp_test_LD), axis=1)\n",
    "\n",
    "clf2 = MLPRegressor(solver=slv, hidden_layer_sizes=((10+10+40*dimPCA)//2,), \n",
    "                    alpha=learningRate,max_iter=1000,activation=activ_fun)\n",
    "clf2.fit(x_train1,transform(y_train2))\n",
    "\n",
    "y_pred2 = inverse_transform(clf2.predict(x_test2))\n",
    "\n",
    "# build result\n",
    "y_pred = np.concatenate((inverse_transform(y_pred1), inverse_transform(y_pred2)), axis=1)\n",
    "y_columns = [f'surge1_t{i}' for i in range(10)] + [f'surge2_t{i}' for i in range(10)]\n",
    "Y_pred = pd.DataFrame(data=surge_pred, columns=y_columns, index=X_test['id_sequence'])\n",
    "Y_pred.to_csv('Y_sep_oldCNN.csv', index_label='id_sequence', sep=',')"
   ]
  },
  {
   "cell_type": "code",
   "execution_count": 2,
   "id": "ee1bb30d-ac09-493b-961b-6cbaedb1c130",
   "metadata": {},
   "outputs": [],
   "source": [
    "# # prepare validation dataset (extract test from the data we have)\n",
    "# nbs = 10 #number of splits to do the average on\n",
    "# test_s = 0.1 # size of test sample\n",
    "# ss = ShuffleSplit(n_splits=nbs,test_size=test_s)\n",
    "# X_ind = np.zeros(5599)\n",
    "\n",
    "# # function to call for cross validate a parameter\n",
    "# def testParams(city=1, learningRate=1e-5, dimPCA=3, hiddenLayers=(100,),slv='sgd',activ_fun='relu'):\n",
    "    \n",
    "#     errors = []\n",
    "    \n",
    "#     for s, (train_index, test_index) in enumerate(ss.split(X_ind)):\n",
    "#         print(s)\n",
    "#         #split data\n",
    "#         slp_train = X_train_slp[train_index]\n",
    "#         slp_test = X_train_slp[test_index]\n",
    "        \n",
    "#         surge_input_train = X_train_surge[city][train_index]\n",
    "#         surge_input_test = X_train_surge[city][test_index]\n",
    "        \n",
    "#         surge_output_train = Y_train[train_index,1:11] if city==1 else Y_train[train_index,11:]\n",
    "#         surge_output_test = Y_train[test_index,1:11] if city==1 else Y_train[test_index,11:]\n",
    "        \n",
    "#         #preprocessing\n",
    "#         prepro = Preprocess()\n",
    "#         slp_train_LD = prepro.fit_transform(slp_train, dimPCA)\n",
    "#         slp_test_LD = prepro.transform(slp_test)\n",
    "        \n",
    "#         y_train = transform(surge_output_train)\n",
    "        \n",
    "#         #concatenate slp and surge input\n",
    "#         x_train = np.concatenate((surge_input_train, slp_train_LD), axis=1)\n",
    "#         x_test = np.concatenate((surge_input_test, slp_test_LD), axis=1)\n",
    "        \n",
    "#         #learn\n",
    "#         clf = MLPRegressor(solver=slv, hidden_layer_sizes=((10+10+40*dimPCA)//2,), alpha=learningRate,max_iter=1000,activation=activ_fun)\n",
    "#         clf.fit(x_train,transform(y_train))\n",
    "        \n",
    "#         #predict\n",
    "#         y_pred = inverse_transform(clf.predict(x_test))\n",
    "        \n",
    "#         error = metric_one_surge(surge_output_test,y_pred)\n",
    "#         errors.append(error)\n",
    "#         print(\"error :\",error)\n",
    "    \n",
    "#     print(learningRate,errors)\n",
    "#     return errors    "
   ]
  },
  {
   "cell_type": "code",
   "execution_count": 3,
   "id": "ce1422cc-162f-429d-931f-0e1e49460dbb",
   "metadata": {},
   "outputs": [],
   "source": [
    "# testParams()"
   ]
  },
  {
   "cell_type": "code",
   "execution_count": null,
   "id": "d6b52b60-76c9-440a-bf5c-8e62939418ed",
   "metadata": {},
   "outputs": [],
   "source": []
  }
 ],
 "metadata": {
  "kernelspec": {
   "display_name": "Python 3 (ipykernel)",
   "language": "python",
   "name": "python3"
  },
  "language_info": {
   "codemirror_mode": {
    "name": "ipython",
    "version": 3
   },
   "file_extension": ".py",
   "mimetype": "text/x-python",
   "name": "python",
   "nbconvert_exporter": "python",
   "pygments_lexer": "ipython3",
   "version": "3.10.6"
  }
 },
 "nbformat": 4,
 "nbformat_minor": 5
}
