{
 "cells": [
  {
   "cell_type": "code",
   "execution_count": 2,
   "id": "9350dbc5",
   "metadata": {},
   "outputs": [],
   "source": [
    "import numpy as np\n",
    "import pandas as pd\n",
    "import os\n",
    "from matplotlib import pyplot as plt\n",
    "from time import gmtime, strftime\n",
    "from sklearn.decomposition import PCA"
   ]
  },
  {
   "cell_type": "code",
   "execution_count": 3,
   "id": "87175c05",
   "metadata": {},
   "outputs": [],
   "source": [
    "my_path = str(os.getcwd())\n",
    "X_train = np.load(my_path+'/.data/X_train_surge_new.npz')\n",
    "Y_train = pd.read_csv(my_path+'/.data/Y_train_surge.csv')\n",
    "X_test = np.load(my_path+'/.data/X_test_surge_new.npz')"
   ]
  },
  {
   "cell_type": "code",
   "execution_count": 4,
   "id": "e3bf2abb",
   "metadata": {},
   "outputs": [
    {
     "name": "stdout",
     "output_type": "stream",
     "text": [
      "['id_sequence', 't_slp', 'slp', 't_surge1_input', 'surge1_input', 't_surge2_input', 'surge2_input', 't_surge1_output', 't_surge2_output']\n"
     ]
    }
   ],
   "source": [
    "print(X_train.files)\n",
    "t_slp = X_train['t_slp']\n",
    "t_surge1_input = X_train['t_surge1_input']\n",
    "t_surge2_input = X_train['t_surge2_input']\n",
    "t_surge1_output = X_train['t_surge1_output']\n",
    "t_surge2_output = X_train['t_surge2_output']\n",
    "slp = X_train['slp']\n",
    "    "
   ]
  },
  {
   "cell_type": "code",
   "execution_count": 5,
   "id": "81ed6b7f",
   "metadata": {},
   "outputs": [
    {
     "name": "stdout",
     "output_type": "stream",
     "text": [
      "(5599, 40, 41, 41)\n",
      "(5599, 40)\n",
      "(5599, 10)\n",
      "67320\n"
     ]
    }
   ],
   "source": [
    "print(slp.shape)\n",
    "print(t_slp.shape)\n",
    "print(t_surge1_input.shape)\n",
    "\n",
    "print(40*41*41+10*4+40)"
   ]
  },
  {
   "cell_type": "code",
   "execution_count": 6,
   "id": "2b43c31e",
   "metadata": {},
   "outputs": [
    {
     "name": "stdout",
     "output_type": "stream",
     "text": [
      "['Tue, 07 Feb 1950 03:00:16', 'Tue, 07 Feb 1950 06:00:32', 'Tue, 07 Feb 1950 08:59:44', 'Tue, 07 Feb 1950 12:00:00', 'Tue, 07 Feb 1950 15:00:16', 'Tue, 07 Feb 1950 17:59:28', 'Tue, 07 Feb 1950 20:59:44', 'Wed, 08 Feb 1950 00:00:00', 'Wed, 08 Feb 1950 03:00:16', 'Wed, 08 Feb 1950 06:00:32', 'Wed, 08 Feb 1950 08:59:44', 'Wed, 08 Feb 1950 12:00:00', 'Wed, 08 Feb 1950 15:00:16', 'Wed, 08 Feb 1950 17:59:28', 'Wed, 08 Feb 1950 20:59:44', 'Thu, 09 Feb 1950 00:00:00', 'Thu, 09 Feb 1950 03:00:16', 'Thu, 09 Feb 1950 06:00:32', 'Thu, 09 Feb 1950 08:59:44', 'Thu, 09 Feb 1950 12:00:00', 'Thu, 09 Feb 1950 15:00:16', 'Thu, 09 Feb 1950 17:59:28', 'Thu, 09 Feb 1950 20:59:44', 'Fri, 10 Feb 1950 00:00:00', 'Fri, 10 Feb 1950 03:00:16', 'Fri, 10 Feb 1950 06:00:32', 'Fri, 10 Feb 1950 08:59:44', 'Fri, 10 Feb 1950 12:00:00', 'Fri, 10 Feb 1950 15:00:16', 'Fri, 10 Feb 1950 17:59:28', 'Fri, 10 Feb 1950 20:59:44', 'Sat, 11 Feb 1950 00:00:00', 'Sat, 11 Feb 1950 03:00:16', 'Sat, 11 Feb 1950 06:00:32', 'Sat, 11 Feb 1950 08:59:44', 'Sat, 11 Feb 1950 12:00:00', 'Sat, 11 Feb 1950 15:00:16', 'Sat, 11 Feb 1950 17:59:28', 'Sat, 11 Feb 1950 20:59:44', 'Sun, 12 Feb 1950 00:00:00']\n",
      "['Mon, 06 Feb 1950 16:59:44', 'Tue, 07 Feb 1950 04:59:44', 'Tue, 07 Feb 1950 16:59:44', 'Wed, 08 Feb 1950 06:00:32', 'Wed, 08 Feb 1950 17:59:28', 'Thu, 09 Feb 1950 06:00:32', 'Thu, 09 Feb 1950 17:59:28', 'Fri, 10 Feb 1950 07:00:16', 'Fri, 10 Feb 1950 20:00:00', 'Sat, 11 Feb 1950 08:00:00']\n",
      "['Sat, 11 Feb 1950 20:59:44', 'Sun, 12 Feb 1950 08:59:44', 'Sun, 12 Feb 1950 20:59:44', 'Mon, 13 Feb 1950 11:00:16', 'Mon, 13 Feb 1950 23:00:16', 'Tue, 14 Feb 1950 12:00:00', 'Wed, 15 Feb 1950 00:00:00', 'Wed, 15 Feb 1950 14:00:32', 'Thu, 16 Feb 1950 00:59:44', 'Thu, 16 Feb 1950 15:00:16']\n",
      "['Mon, 06 Feb 1950 17:59:28', 'Tue, 07 Feb 1950 06:00:32', 'Tue, 07 Feb 1950 19:00:16', 'Wed, 08 Feb 1950 07:00:16', 'Wed, 08 Feb 1950 19:00:16', 'Thu, 09 Feb 1950 08:00:00', 'Thu, 09 Feb 1950 20:00:00', 'Fri, 10 Feb 1950 08:59:44', 'Fri, 10 Feb 1950 22:00:32', 'Sat, 11 Feb 1950 11:00:16']\n",
      "['Sat, 11 Feb 1950 23:00:16', 'Sun, 12 Feb 1950 12:00:00', 'Mon, 13 Feb 1950 00:00:00', 'Mon, 13 Feb 1950 12:59:44', 'Tue, 14 Feb 1950 00:59:44', 'Tue, 14 Feb 1950 14:00:32', 'Wed, 15 Feb 1950 01:59:28', 'Wed, 15 Feb 1950 15:00:16', 'Thu, 16 Feb 1950 03:00:16', 'Thu, 16 Feb 1950 16:00:00']\n"
     ]
    }
   ],
   "source": [
    "idx = 16\n",
    "print([strftime(\"%a, %d %b %Y %H:%M:%S\",gmtime(int(t))) for t in t_slp[idx]])\n",
    "print([strftime(\"%a, %d %b %Y %H:%M:%S\",gmtime(int(t))) for t in t_surge1_input[idx]])\n",
    "print([strftime(\"%a, %d %b %Y %H:%M:%S\",gmtime(int(t))) for t in t_surge1_output[idx]])\n",
    "print([strftime(\"%a, %d %b %Y %H:%M:%S\",gmtime(int(t))) for t in t_surge2_input[idx]])\n",
    "print([strftime(\"%a, %d %b %Y %H:%M:%S\",gmtime(int(t))) for t in t_surge2_output[idx]])"
   ]
  },
  {
   "cell_type": "code",
   "execution_count": 7,
   "id": "87efafb2",
   "metadata": {},
   "outputs": [
    {
     "name": "stdout",
     "output_type": "stream",
     "text": [
      "(5599, 80)\n",
      "[-301632. -290816. -280000. -269184. -258432. -247616. -236800. -226048.\n",
      " -215232. -204416. -193600. -182784. -172032. -161216. -150400. -139648.\n",
      " -128832. -118016. -107200.  -96384.  -85632.  -74816.  -64000.  -53248.\n",
      "  -42432.  -31616.  -20800.   -9984.     768.   11584.   22400.   33152.\n",
      "   43968.   54784.   65600.   76416.   87168.   97984.  108800.  119552.\n",
      " -334016. -290816. -244032. -200832. -153984. -110848.  -67584.  -24448.\n",
      "   22400.   65600.  112384.  155584.  198784.  241984.  288768.  331968.\n",
      "  375168.  422016.  465152.  508416. -326784. -283648. -240384. -193600.\n",
      " -150400. -107200.  -60416.  -17216.   25984.   72768.  115968.  159168.\n",
      "  205952.  249216.  292352.  339200.  382400.  425600.  472384.  515584.]\n"
     ]
    }
   ],
   "source": [
    "times = []\n",
    "for i in range(5599):\n",
    "    time = np.concatenate((t_slp[i],t_surge1_input[i],t_surge1_output[i],t_surge2_input[i],t_surge2_output[i]))\n",
    "    time = time-np.mean(time)\n",
    "    times.append(time)\n",
    "print(np.shape(times))\n",
    "times = np.array(times)\n",
    "print(times[0])"
   ]
  },
  {
   "cell_type": "code",
   "execution_count": 8,
   "id": "b6ca6fb2",
   "metadata": {},
   "outputs": [
    {
     "name": "stdout",
     "output_type": "stream",
     "text": [
      "(5599, 67240)\n",
      "[102389.25 102458.25 102514.25 102554.25 102581.25 102593.25 102594.25\n",
      " 102584.25 102561.25 102527.25 102483.25 102430.25 102366.25 102294.25\n",
      " 102216.25 102131.25 102040.25 101945.25 101841.25 101735.25 101636.25\n",
      " 101563.25 101554.25 101552.25 101552.25 101558.25 101559.25 101550.25\n",
      " 101512.25 101462.25 101419.25 101376.25 101342.25 101319.25 101305.25\n",
      " 101297.25 101287.25 101281.25 101276.25 101275.25 101271.25 102432.25\n",
      " 102509.25 102572.25 102620.25 102651.25 102668.25 102671.25 102662.25\n",
      " 102641.25 102607.25 102563.25 102510.25 102446.25 102372.25 102293.25\n",
      " 102206.25 102113.25 102016.25 101917.25 101815.25 101703.25 101700.25\n",
      " 101812.25 101784.25 101665.25 101620.25 101601.25 101600.25 101548.25\n",
      " 101494.25 101445.25 101385.25 101331.25 101302.25 101287.25 101274.25\n",
      " 101267.25 101266.25 101268.25 101266.25 101268.25 102467.25 102552.25\n",
      " 102624.25 102680.25 102717.25 102738.25 102745.25 102739.25 102719.25\n",
      " 102686.25 102641.25 102586.25 102523.25 102452.25 102371.25 102284.25\n",
      " 102190.25 102094.25]\n"
     ]
    }
   ],
   "source": [
    "slpf = []\n",
    "m = np.mean(slp)\n",
    "#slp = slp - np.mean(slp)\n",
    "for i in range(5599):\n",
    "    slpf.append(slp[i].flatten())\n",
    "\n",
    "slpf = np.array(slpf)\n",
    "print(slpf.shape)\n",
    "print(slpf[0][:100])"
   ]
  },
  {
   "cell_type": "code",
   "execution_count": 9,
   "id": "f2666293",
   "metadata": {},
   "outputs": [
    {
     "data": {
      "text/html": [
       "<style>#sk-container-id-1 {color: black;background-color: white;}#sk-container-id-1 pre{padding: 0;}#sk-container-id-1 div.sk-toggleable {background-color: white;}#sk-container-id-1 label.sk-toggleable__label {cursor: pointer;display: block;width: 100%;margin-bottom: 0;padding: 0.3em;box-sizing: border-box;text-align: center;}#sk-container-id-1 label.sk-toggleable__label-arrow:before {content: \"▸\";float: left;margin-right: 0.25em;color: #696969;}#sk-container-id-1 label.sk-toggleable__label-arrow:hover:before {color: black;}#sk-container-id-1 div.sk-estimator:hover label.sk-toggleable__label-arrow:before {color: black;}#sk-container-id-1 div.sk-toggleable__content {max-height: 0;max-width: 0;overflow: hidden;text-align: left;background-color: #f0f8ff;}#sk-container-id-1 div.sk-toggleable__content pre {margin: 0.2em;color: black;border-radius: 0.25em;background-color: #f0f8ff;}#sk-container-id-1 input.sk-toggleable__control:checked~div.sk-toggleable__content {max-height: 200px;max-width: 100%;overflow: auto;}#sk-container-id-1 input.sk-toggleable__control:checked~label.sk-toggleable__label-arrow:before {content: \"▾\";}#sk-container-id-1 div.sk-estimator input.sk-toggleable__control:checked~label.sk-toggleable__label {background-color: #d4ebff;}#sk-container-id-1 div.sk-label input.sk-toggleable__control:checked~label.sk-toggleable__label {background-color: #d4ebff;}#sk-container-id-1 input.sk-hidden--visually {border: 0;clip: rect(1px 1px 1px 1px);clip: rect(1px, 1px, 1px, 1px);height: 1px;margin: -1px;overflow: hidden;padding: 0;position: absolute;width: 1px;}#sk-container-id-1 div.sk-estimator {font-family: monospace;background-color: #f0f8ff;border: 1px dotted black;border-radius: 0.25em;box-sizing: border-box;margin-bottom: 0.5em;}#sk-container-id-1 div.sk-estimator:hover {background-color: #d4ebff;}#sk-container-id-1 div.sk-parallel-item::after {content: \"\";width: 100%;border-bottom: 1px solid gray;flex-grow: 1;}#sk-container-id-1 div.sk-label:hover label.sk-toggleable__label {background-color: #d4ebff;}#sk-container-id-1 div.sk-serial::before {content: \"\";position: absolute;border-left: 1px solid gray;box-sizing: border-box;top: 0;bottom: 0;left: 50%;z-index: 0;}#sk-container-id-1 div.sk-serial {display: flex;flex-direction: column;align-items: center;background-color: white;padding-right: 0.2em;padding-left: 0.2em;position: relative;}#sk-container-id-1 div.sk-item {position: relative;z-index: 1;}#sk-container-id-1 div.sk-parallel {display: flex;align-items: stretch;justify-content: center;background-color: white;position: relative;}#sk-container-id-1 div.sk-item::before, #sk-container-id-1 div.sk-parallel-item::before {content: \"\";position: absolute;border-left: 1px solid gray;box-sizing: border-box;top: 0;bottom: 0;left: 50%;z-index: -1;}#sk-container-id-1 div.sk-parallel-item {display: flex;flex-direction: column;z-index: 1;position: relative;background-color: white;}#sk-container-id-1 div.sk-parallel-item:first-child::after {align-self: flex-end;width: 50%;}#sk-container-id-1 div.sk-parallel-item:last-child::after {align-self: flex-start;width: 50%;}#sk-container-id-1 div.sk-parallel-item:only-child::after {width: 0;}#sk-container-id-1 div.sk-dashed-wrapped {border: 1px dashed gray;margin: 0 0.4em 0.5em 0.4em;box-sizing: border-box;padding-bottom: 0.4em;background-color: white;}#sk-container-id-1 div.sk-label label {font-family: monospace;font-weight: bold;display: inline-block;line-height: 1.2em;}#sk-container-id-1 div.sk-label-container {text-align: center;}#sk-container-id-1 div.sk-container {/* jupyter's `normalize.less` sets `[hidden] { display: none; }` but bootstrap.min.css set `[hidden] { display: none !important; }` so we also need the `!important` here to be able to override the default hidden behavior on the sphinx rendered scikit-learn.org. See: https://github.com/scikit-learn/scikit-learn/issues/21755 */display: inline-block !important;position: relative;}#sk-container-id-1 div.sk-text-repr-fallback {display: none;}</style><div id=\"sk-container-id-1\" class=\"sk-top-container\"><div class=\"sk-text-repr-fallback\"><pre>PCA(n_components=1000)</pre><b>In a Jupyter environment, please rerun this cell to show the HTML representation or trust the notebook. <br />On GitHub, the HTML representation is unable to render, please try loading this page with nbviewer.org.</b></div><div class=\"sk-container\" hidden><div class=\"sk-item\"><div class=\"sk-estimator sk-toggleable\"><input class=\"sk-toggleable__control sk-hidden--visually\" id=\"sk-estimator-id-1\" type=\"checkbox\" checked><label for=\"sk-estimator-id-1\" class=\"sk-toggleable__label sk-toggleable__label-arrow\">PCA</label><div class=\"sk-toggleable__content\"><pre>PCA(n_components=1000)</pre></div></div></div></div></div>"
      ],
      "text/plain": [
       "PCA(n_components=1000)"
      ]
     },
     "execution_count": 9,
     "metadata": {},
     "output_type": "execute_result"
    }
   ],
   "source": [
    "nb_comp = 1000\n",
    "pca = PCA(n_components=nb_comp)\n",
    "pca.fit(slpf)"
   ]
  },
  {
   "cell_type": "code",
   "execution_count": 10,
   "id": "539a74f6",
   "metadata": {},
   "outputs": [
    {
     "data": {
      "text/plain": [
       "[<matplotlib.lines.Line2D at 0x7fb3303e3e50>]"
      ]
     },
     "execution_count": 10,
     "metadata": {},
     "output_type": "execute_result"
    },
    {
     "data": {
      "image/png": "[encoded data removed]",
      "text/plain": [
       "<Figure size 432x288 with 1 Axes>"
      ]
     },
     "metadata": {
      "needs_background": "light"
     },
     "output_type": "display_data"
    }
   ],
   "source": [
    "fig1,ax1 = plt.subplots()\n",
    "ax1.plot(pca.explained_variance_ratio_)\n",
    "plt.yscale(\"log\")\n",
    "ax1.plot([0.01 for _ in range(nb_comp)])"
   ]
  }
 ],
 "metadata": {
  "kernelspec": {
   "display_name": "Python 3 (ipykernel)",
   "language": "python",
   "name": "python3"
  },
  "language_info": {
   "codemirror_mode": {
    "name": "ipython",
    "version": 3
   },
   "file_extension": ".py",
   "mimetype": "text/x-python",
   "name": "python",
   "nbconvert_exporter": "python",
   "pygments_lexer": "ipython3",
   "version": "3.10.6"
  }
 },
 "nbformat": 4,
 "nbformat_minor": 5
}
